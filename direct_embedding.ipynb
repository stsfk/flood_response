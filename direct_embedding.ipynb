{
 "cells": [
  {
   "cell_type": "code",
   "execution_count": 143,
   "metadata": {},
   "outputs": [],
   "source": [
    "import torch\n",
    "import torch.nn as nn\n",
    "import torch.optim as optim\n",
    "from torch.autograd import Variable\n",
    "import torch.nn.functional as F\n",
    "from torch.nn.utils import weight_norm\n",
    "from torch.utils.data import Dataset, DataLoader\n",
    "\n",
    "import csv\n",
    "import numpy as np\n",
    "\n",
    "from collections import defaultdict\n",
    "\n",
    "import math\n",
    "import random\n",
    "\n",
    "import pandas as pd\n",
    "\n",
    "import os\n",
    "import sys\n",
    "\n",
    "from datetime import datetime\n",
    "\n",
    "from matplotlib import pyplot as plt\n",
    "\n",
    "import optuna\n",
    "from optuna.trial import TrialState\n",
    "\n",
    "from sklearn.metrics import mean_squared_error\n",
    "from sklearn.metrics import r2_score\n",
    "\n",
    "import sys\n",
    "import logging"
   ]
  },
  {
   "cell_type": "code",
   "execution_count": 144,
   "metadata": {},
   "outputs": [],
   "source": [
    "dtypes = defaultdict(lambda: float)"
   ]
  },
  {
   "cell_type": "code",
   "execution_count": 145,
   "metadata": {},
   "outputs": [],
   "source": [
    "class All_data(Dataset):\n",
    "    def __init__(\n",
    "        self, fpath=\"data/annual_max_flood.csv\"):\n",
    "        data_raw = pd.read_csv(fpath, dtype=dtypes)\n",
    "\n",
    "        # split the data\n",
    "        self.x =  data_raw.loc[:, \"initial_dis\":\"sum_snowfall\"]\n",
    "        self.y =  data_raw.loc[:, \"flood_lag_time\":\"sm_ave\"]\n",
    "        self.c0 = data_raw[\"catchment_name\"] - 1 # adjust id to start from 0\n",
    "        self.c1 = data_raw.loc[:,\"IA\":\"Sum_CAP_MC\"]\n",
    "\n",
    "        # normalization\n",
    "        self.x = (self.x - self.x.mean(axis=0)) / self.x.std(axis=0)\n",
    "        self.y = (self.y - self.y.mean(axis=0)) / self.y.std(axis=0)\n",
    "        self.c1 = (self.c1 - self.c1.mean(axis=0)) / self.c1.std(axis=0)\n",
    "\n",
    "        # to tensors\n",
    "        self.x =  torch.tensor(self.x.values, dtype=torch.float32)\n",
    "        self.y =  torch.tensor(self.y.values, dtype=torch.float32)\n",
    "        self.c0 = torch.tensor(self.c0.values)\n",
    "        self.c1 = torch.tensor(self.c1.values, dtype=torch.float32)\n",
    "\n",
    "    def __getitem__(self, index):\n",
    "        return self.x[index], self.y[index], self.c0[index], self.c1[index]\n",
    "\n",
    "    def __len__(self):\n",
    "        return self.x.shape[0]\n"
   ]
  },
  {
   "cell_type": "code",
   "execution_count": 146,
   "metadata": {},
   "outputs": [],
   "source": [
    "all_data = All_data()\n",
    "train_dataloader = DataLoader(all_data, batch_size=64, shuffle=True)"
   ]
  },
  {
   "cell_type": "code",
   "execution_count": 147,
   "metadata": {},
   "outputs": [],
   "source": [
    "class G1_F(nn.Module):\n",
    "    def __init__(\n",
    "        self,\n",
    "        out_dim,\n",
    "        in_dim,\n",
    "        fc_hidden_dims,\n",
    "        p=0.2,\n",
    "    ):\n",
    "        super(G1_F, self).__init__()\n",
    "        \n",
    "        self.latent_dim = out_dim\n",
    "        self.feature_dim = in_dim\n",
    "        self.fc_hidden_dims = fc_hidden_dims\n",
    "        self.p = p\n",
    "        \n",
    "        # LSTM to latent code\n",
    "        self.fc_layers = []\n",
    "        self.p = p\n",
    "        for i in range((len(self.fc_hidden_dims))):\n",
    "            in_dim = self.feature_dim if i == 0 else self.fc_hidden_dims[i - 1]\n",
    "            out_dim = self.fc_hidden_dims[i]\n",
    "            self.fc_layers += [nn.Linear(in_dim, out_dim)]\n",
    "            self.fc_layers += [nn.ReLU()]\n",
    "            self.fc_layers += [nn.Dropout(p=self.p)]\n",
    "\n",
    "        self.fc_layers += [nn.Linear(self.fc_hidden_dims[-1], self.latent_dim)]\n",
    "\n",
    "        self.fc_layers = nn.Sequential(*self.fc_layers)\n",
    "        \n",
    "    def forward(self, inputs):\n",
    "        self.out = self.fc_layers(inputs)\n",
    "\n",
    "        return self.out"
   ]
  },
  {
   "cell_type": "code",
   "execution_count": 148,
   "metadata": {},
   "outputs": [],
   "source": [
    "DEVICE = torch.device(\"cuda\" if torch.cuda.is_available() else \"cpu\")\n",
    "N_CATCHMENT = 1873\n",
    "LATENT_DIM = 2\n"
   ]
  },
  {
   "cell_type": "code",
   "execution_count": 149,
   "metadata": {},
   "outputs": [],
   "source": [
    "FORCING_DIM = 12\n",
    "LATENT_DIM = 2\n",
    "DYNAMIC_DIM = 10\n",
    "FLOOD_DIM = 6\n",
    "\n",
    "g1 = G1_F(out_dim = LATENT_DIM, in_dim = DYNAMIC_DIM, fc_hidden_dims=[64,32,16]).to(DEVICE)\n",
    "f = G1_F(out_dim = FLOOD_DIM, in_dim = FORCING_DIM + LATENT_DIM, fc_hidden_dims=[64,32,16]).to(DEVICE)\n",
    "g0 = nn.Embedding(N_CATCHMENT, LATENT_DIM).to(DEVICE)"
   ]
  },
  {
   "cell_type": "code",
   "execution_count": 150,
   "metadata": {},
   "outputs": [],
   "source": [
    "lr = 1e-3\n",
    "\n",
    "g0_optimizer = optim.Adam(g0.parameters(), lr=lr)\n",
    "g1_optimizer = optim.Adam(g1.parameters(), lr=lr)\n",
    "f_optimizer = optim.Adam(f.parameters(), lr=lr)\n",
    "\n",
    "criterion = nn.MSELoss()\n",
    "train_dataloader = DataLoader(all_data, batch_size=128, shuffle=True)"
   ]
  },
  {
   "cell_type": "code",
   "execution_count": 151,
   "metadata": {},
   "outputs": [],
   "source": [
    "x,y,c0,c1=next(iter(train_dataloader))\n",
    "x,y,c0,c1=x.to(DEVICE),y.to(DEVICE),c0.to(DEVICE),c1.to(DEVICE)\n",
    "\n",
    "z = (g0(c0) + g1(c1))\n",
    "out = f(torch.cat((z, x), 1))"
   ]
  },
  {
   "cell_type": "code",
   "execution_count": 152,
   "metadata": {},
   "outputs": [],
   "source": [
    "losses = []\n",
    "val_losses = []\n",
    "\n",
    "EPOCHS = 100\n",
    "TRAIN_STEPS = round(58908/100)\n",
    "\n",
    "# train model\n",
    "for epoch in range(EPOCHS):\n",
    "\n",
    "    running_loss = 0.0\n",
    "\n",
    "    for i in range(TRAIN_STEPS):\n",
    "\n",
    "        g0_optimizer.zero_grad()\n",
    "        g1_optimizer.zero_grad()\n",
    "        f_optimizer.zero_grad()\n",
    "\n",
    "        # put the models into training mode\n",
    "        g0.train()\n",
    "        g1.train()\n",
    "        f.train()\n",
    "\n",
    "        x,y,c0,c1=next(iter(train_dataloader))\n",
    "        x,y,c0,c1=x.to(DEVICE),y.to(DEVICE),c0.to(DEVICE),c1.to(DEVICE)\n",
    "\n",
    "         # pass through model\n",
    "        z = (g0(c0) + g1(c1))\n",
    "        out = f(torch.cat((z, x), 1))\n",
    "\n",
    "        # backprop\n",
    "        loss = criterion(out,y)\n",
    "\n",
    "        loss.backward()\n",
    "        \n",
    "        g0_optimizer.step()\n",
    "        g1_optimizer.step()\n",
    "        f_optimizer.zero_grad()\n",
    "\n",
    "        with torch.no_grad():\n",
    "            running_loss = running_loss + loss.cpu().detach().numpy()\n",
    "\n",
    "    losses.append(running_loss/i+1)"
   ]
  },
  {
   "cell_type": "code",
   "execution_count": 153,
   "metadata": {},
   "outputs": [
    {
     "data": {
      "text/plain": [
       "[2.0160263813271815,\n",
       " 2.0129227283455076,\n",
       " 2.007230497947355,\n",
       " 2.0065207249250543,\n",
       " 2.0060198663854276,\n",
       " 2.0072200379404084,\n",
       " 2.0037208833053812,\n",
       " 2.0136342290915596,\n",
       " 2.005820302229349,\n",
       " 2.0051912082498573,\n",
       " 2.0052617049338863,\n",
       " 2.0090962609871714,\n",
       " 2.016502505459753,\n",
       " 2.0122811408067234,\n",
       " 1.9994905115593047,\n",
       " 2.003008778504774,\n",
       " 2.014869983605787,\n",
       " 2.009596368386632,\n",
       " 2.0001130234830233,\n",
       " 2.0103927920667495,\n",
       " 1.9998557551377485,\n",
       " 2.005376165010491,\n",
       " 1.9977860920080523,\n",
       " 2.0050395176726945,\n",
       " 2.0060660534975483,\n",
       " 1.9988447126685358,\n",
       " 1.9989987035997872,\n",
       " 2.001374491015259,\n",
       " 2.003005695383565,\n",
       " 1.999624247555019,\n",
       " 2.0019306000195396,\n",
       " 2.0110342013998097,\n",
       " 2.004055593593591,\n",
       " 2.000958038532004,\n",
       " 2.001189600853693,\n",
       " 1.9969053494484246,\n",
       " 2.004864441496985,\n",
       " 1.9948555574733384,\n",
       " 1.992179801674927,\n",
       " 2.006692656753015,\n",
       " 1.9980754715447522,\n",
       " 1.9944230070730455,\n",
       " 1.9981128937330377,\n",
       " 1.9903926021185052,\n",
       " 1.9990149249835891,\n",
       " 2.002704890710967,\n",
       " 2.006698579711168,\n",
       " 2.002297977707824,\n",
       " 1.99792562982663,\n",
       " 1.995690503898932,\n",
       " 1.9891483525232392,\n",
       " 2.00375506393358,\n",
       " 1.9867124133775023,\n",
       " 1.9935399161106875,\n",
       " 1.9944843342717813,\n",
       " 1.9912792987563983,\n",
       " 1.9918521950845005,\n",
       " 1.9922595771194316,\n",
       " 1.9891751254496932,\n",
       " 1.9932352162542797,\n",
       " 2.0004586954506074,\n",
       " 1.9910043611818429,\n",
       " 1.9927736718435676,\n",
       " 1.997633939900366,\n",
       " 1.989750280165348,\n",
       " 1.989286601644795,\n",
       " 1.9879324502077234,\n",
       " 1.9997526601869233,\n",
       " 1.9908346662513252,\n",
       " 1.9943377181988995,\n",
       " 1.9971165126886499,\n",
       " 1.9897030252380437,\n",
       " 1.9799130319738065,\n",
       " 1.9852857776239614,\n",
       " 1.9931546406072824,\n",
       " 1.9971505106509138,\n",
       " 2.00084241788809,\n",
       " 1.9904081907604827,\n",
       " 1.9907116369933497,\n",
       " 1.9980481798146048,\n",
       " 1.9879521710329315,\n",
       " 2.0038098085697005,\n",
       " 1.9898804542766948,\n",
       " 1.993890479004302,\n",
       " 1.9893396737015978,\n",
       " 1.9888930890430399,\n",
       " 1.98823309279218,\n",
       " 1.995503935380047,\n",
       " 1.9920310416594655,\n",
       " 1.991784378278012,\n",
       " 1.9921640057344825,\n",
       " 1.98046179196867,\n",
       " 1.998488486117246,\n",
       " 1.9877314336445866,\n",
       " 1.9934732857204618,\n",
       " 1.9968722112932984,\n",
       " 1.9929692015355949,\n",
       " 1.9897040449032168,\n",
       " 1.9901531359979083,\n",
       " 1.9954993592030337]"
      ]
     },
     "execution_count": 153,
     "metadata": {},
     "output_type": "execute_result"
    }
   ],
   "source": [
    "losses"
   ]
  },
  {
   "cell_type": "code",
   "execution_count": 157,
   "metadata": {},
   "outputs": [
    {
     "ename": "SyntaxError",
     "evalue": "invalid syntax. Perhaps you forgot a comma? (3194443369.py, line 1)",
     "output_type": "error",
     "traceback": [
      "\u001b[0;36m  Input \u001b[0;32mIn [157]\u001b[0;36m\u001b[0m\n\u001b[0;31m    np.array(arrange 1000)\u001b[0m\n\u001b[0m             ^\u001b[0m\n\u001b[0;31mSyntaxError\u001b[0m\u001b[0;31m:\u001b[0m invalid syntax. Perhaps you forgot a comma?\n"
     ]
    }
   ],
   "source": [
    "np.array(arrange 1000)"
   ]
  },
  {
   "cell_type": "code",
   "execution_count": 162,
   "metadata": {},
   "outputs": [
    {
     "data": {
      "text/plain": [
       "<matplotlib.collections.PathCollection at 0x7fe508785e40>"
      ]
     },
     "execution_count": 162,
     "metadata": {},
     "output_type": "execute_result"
    },
    {
     "data": {
      "image/png": "[encoded data removed]",
      "text/plain": [
       "<Figure size 640x480 with 1 Axes>"
      ]
     },
     "metadata": {},
     "output_type": "display_data"
    }
   ],
   "source": [
    "out = g0(c0)\n",
    "plt.scatter(out[:,0].cpu().detach().numpy(),out[:,1].cpu().detach().numpy())"
   ]
  },
  {
   "cell_type": "code",
   "execution_count": 163,
   "metadata": {},
   "outputs": [
    {
     "data": {
      "text/plain": [
       "<matplotlib.collections.PathCollection at 0x7fe5087e2a10>"
      ]
     },
     "execution_count": 163,
     "metadata": {},
     "output_type": "execute_result"
    },
    {
     "data": {
      "image/png": "[encoded data removed]",
      "text/plain": [
       "<Figure size 640x480 with 1 Axes>"
      ]
     },
     "metadata": {},
     "output_type": "display_data"
    }
   ],
   "source": [
    "out = g1(c1)\n",
    "plt.scatter(out[:,0].cpu().detach().numpy(),out[:,1].cpu().detach().numpy())"
   ]
  },
  {
   "cell_type": "code",
   "execution_count": 169,
   "metadata": {},
   "outputs": [
    {
     "data": {
      "text/plain": [
       "<matplotlib.collections.PathCollection at 0x7fe558fb2920>"
      ]
     },
     "execution_count": 169,
     "metadata": {},
     "output_type": "execute_result"
    },
    {
     "data": {
      "image/png": "[encoded data removed]",
      "text/plain": [
       "<Figure size 640x480 with 1 Axes>"
      ]
     },
     "metadata": {},
     "output_type": "display_data"
    }
   ],
   "source": [
    "out = g1(c1)+g0(c0)\n",
    "plt.scatter(out[:,0].cpu().detach().numpy(),out[:,1].cpu().detach().numpy())"
   ]
  },
  {
   "cell_type": "code",
   "execution_count": 161,
   "metadata": {},
   "outputs": [],
   "source": [
    "c0,c1,x  = all_data.c0[0:20],all_data.c1[0:20],all_data.x[0:20]"
   ]
  },
  {
   "cell_type": "code",
   "execution_count": null,
   "metadata": {},
   "outputs": [],
   "source": []
  },
  {
   "cell_type": "code",
   "execution_count": null,
   "metadata": {},
   "outputs": [],
   "source": []
  },
  {
   "cell_type": "code",
   "execution_count": null,
   "metadata": {},
   "outputs": [],
   "source": []
  },
  {
   "cell_type": "code",
   "execution_count": 7,
   "metadata": {},
   "outputs": [],
   "source": [
    "class EarlyStopper:\n",
    "    # https://stackoverflow.com/a/73704579/3361298\n",
    "\n",
    "    def __init__(self, patience=1, min_delta=0):\n",
    "        self.patience = patience\n",
    "        self.min_delta = min_delta\n",
    "        self.counter = 0\n",
    "        self.min_validation_loss = np.inf\n",
    "\n",
    "    def early_stop(self, validation_loss):\n",
    "        if validation_loss < self.min_validation_loss:\n",
    "            self.min_validation_loss = validation_loss\n",
    "            self.counter = 0\n",
    "        elif validation_loss > (self.min_validation_loss + self.min_delta):\n",
    "            self.counter += 1\n",
    "            if self.counter >= self.patience:\n",
    "                return True\n",
    "        return False"
   ]
  },
  {
   "cell_type": "code",
   "execution_count": 29,
   "metadata": {},
   "outputs": [],
   "source": [
    "DEVICE = torch.device(\"cuda\" if torch.cuda.is_available() else \"cpu\")\n",
    "\n",
    "BATCH_SIZE = 128\n",
    "N_SEQ = 1\n",
    "SEQ_LENGTH = 365*2\n",
    "TARGET_SEQ_LENGTH = 365\n",
    "BASE_LENGTH = 365\n",
    "\n",
    "FORCING_DIM = 23\n",
    "OUTPUT_DIM = 1\n",
    "LATENT_DIM = 4\n",
    "\n",
    "N_CATCHMENT=1162\n",
    "\n",
    "EPOCHS = 400\n",
    "TRAIN_STEPS = round(15*N_CATCHMENT/BATCH_SIZE) # catchment number * year / batch size\n",
    "VAL_STEP_SIZE = 400\n",
    "\n",
    "PATIENCE = 25\n",
    "\n",
    "criterion = nn.MSELoss()\n",
    "\n",
    "def define_model(trial):\n",
    "    \n",
    "    lstm_hidden_dim=trial.suggest_int(\"lstm_hidden_dim\", 4, 128)\n",
    "    n_lstm_layers=trial.suggest_int(\"n_lstm_layers\", 1, 2)\n",
    "    n_fc_layers=trial.suggest_int(\"n_fc_layers\", 1, 3)\n",
    "    p = trial.suggest_float(\"dropout\", 0, 0.5)\n",
    "    \n",
    "    fc_hidden_dims = []\n",
    "    for i in range(n_fc_layers):\n",
    "        fc_dim = trial.suggest_int(f\"fc_dim{i}\", 4, 16)\n",
    "        fc_hidden_dims.append(fc_dim)\n",
    "        \n",
    "    decoder = Decoder(\n",
    "        latent_dim=LATENT_DIM,\n",
    "        feature_dim=FORCING_DIM,\n",
    "        lstm_hidden_dim=lstm_hidden_dim,\n",
    "        fc_hidden_dims=fc_hidden_dims,\n",
    "        num_lstm_layers=n_lstm_layers,\n",
    "        output_dim=1,\n",
    "        p=p,\n",
    "    )\n",
    "    \n",
    "    return decoder\n",
    "\n",
    "\n",
    "def val_model(embedding, decoder, batch_gen, return_summary = True):\n",
    "    \n",
    "    # store predcitions\n",
    "    preds = np.ones(batch_gen.dataset.y.shape)\n",
    "    \n",
    "    for j in range(math.ceil(N_CATCHMENT / VAL_STEP_SIZE)):\n",
    "        \n",
    "        # iterate over catchments, evaluate VAL_STEP_SIZE catchments each time\n",
    "        start_catchment_ind = j * VAL_STEP_SIZE \n",
    "        end_catchment_ind = min((j + 1) * VAL_STEP_SIZE, N_CATCHMENT)\n",
    "        selected_catchments = [a for a in range(start_catchment_ind, end_catchment_ind)]\n",
    "\n",
    "        x_batch, y_batch = batch_gen.get_batch(selected_catchments=selected_catchments)\n",
    "        x_batch, y_batch = x_batch.to(DEVICE), y_batch.to(DEVICE)\n",
    "        \n",
    "        # get the latent code for the catchments\n",
    "        selected_catchments = torch.from_numpy(np.arange(start_catchment_ind, end_catchment_ind)).to(DEVICE)\n",
    "        with torch.no_grad():\n",
    "            code = embedding(selected_catchments)\n",
    "\n",
    "        # iterate over each year for the selected catchment\n",
    "        # new shape: year * n_catchments * record length * feature dim\n",
    "        x_batch = x_batch.transpose(0, 1)\n",
    "        n_years = x_batch.shape[0]\n",
    "        for k in range(n_years):\n",
    "            start_record_ind = BASE_LENGTH + k * TARGET_SEQ_LENGTH\n",
    "            end_record_ind = start_record_ind + TARGET_SEQ_LENGTH\n",
    "\n",
    "            # subsetting and pass through decoder\n",
    "            x_val_sub = x_batch[k, :, :, :].squeeze()\n",
    "            with torch.no_grad():\n",
    "                pred = decoder.decode(code, x_val_sub)[:, BASE_LENGTH :]\n",
    "                preds[\n",
    "                    start_catchment_ind:end_catchment_ind, start_record_ind:end_record_ind\n",
    "                ] = (pred.cpu().detach().numpy())\n",
    "\n",
    "        \n",
    "        # compuate normalized NSE for each catchment\n",
    "        # interate over catchments\n",
    "        gofs = np.ones(preds.shape[0])\n",
    "        for k in range(preds.shape[0]):\n",
    "            \n",
    "            end_record_ind = BASE_LENGTH + n_years * TARGET_SEQ_LENGTH\n",
    "            y_pred = preds[k, BASE_LENGTH:end_record_ind]\n",
    "            y_true = batch_gen.dataset.y[k, BASE_LENGTH:end_record_ind].cpu().detach().numpy()\n",
    "\n",
    "            gofs[k] = mean_squared_error(y_true=y_true, y_pred=y_pred, squared=False)\n",
    "            \n",
    "        if return_summary:\n",
    "            out = gofs.mean()\n",
    "        else:\n",
    "            out = gofs\n",
    "    \n",
    "    return out\n",
    "        \n",
    "\n",
    "\n",
    "def objective(trial):\n",
    "    \n",
    "    losses = []\n",
    "    val_losses = []\n",
    "    \n",
    "    # prepare early stopper\n",
    "    early_stopper = EarlyStopper(patience=PATIENCE, min_delta=0)\n",
    "    \n",
    "    # define model\n",
    "    decoder = define_model(trial).to(DEVICE)\n",
    "    embedding = nn.Embedding(N_CATCHMENT, LATENT_DIM).to(DEVICE)\n",
    "\n",
    "    \n",
    "    # define optimizers\n",
    "    lr = trial.suggest_float(\"lr\", 1e-5, 1e-2, log=True)\n",
    "    decoder_optimizer = optim.Adam(decoder.parameters(), lr=lr)\n",
    "    embedding_optimizer = optim.Adam(embedding.parameters(), lr=lr)\n",
    "    \n",
    "    \n",
    "    # train model\n",
    "    for epoch in range(EPOCHS):\n",
    "\n",
    "        running_loss = 0.0\n",
    "\n",
    "        for i in range(TRAIN_STEPS):\n",
    "\n",
    "            decoder_optimizer.zero_grad()\n",
    "            embedding_optimizer.zero_grad()\n",
    "\n",
    "            # put the models into training mode\n",
    "            decoder.train()\n",
    "            embedding.train()\n",
    "\n",
    "            (xs_batch, ys_batch, selected_catchments) = train_batch_gen.get_batch(\n",
    "                n_seq=n_seq, batch_size=BATCH_SIZE, seq_length=SEQ_LENGTH\n",
    "            )\n",
    "\n",
    "            # divide batch and pass to device\n",
    "            xs_batch, ys_batch, selected_catchments = (\n",
    "                xs_batch.to(DEVICE),\n",
    "                ys_batch.to(DEVICE),\n",
    "                selected_catchments.to(DEVICE),\n",
    "            )\n",
    "            \n",
    "            # slice batch for training\n",
    "            x0, y0 = (xs_batch[0, :, :, :], ys_batch[0, :, :])\n",
    "            code = embedding(selected_catchments)\n",
    "\n",
    "            # pass through decoder\n",
    "            out = decoder.decode(code, x0)\n",
    "\n",
    "            # backprop\n",
    "            loss = criterion(\n",
    "                out[:, (SEQ_LENGTH - TARGET_SEQ_LENGTH) :],\n",
    "                y0[:, (SEQ_LENGTH - TARGET_SEQ_LENGTH) :],\n",
    "            )\n",
    "\n",
    "            loss.backward()\n",
    "            embedding_optimizer.step()\n",
    "            decoder_optimizer.step()\n",
    "\n",
    "            with torch.no_grad():\n",
    "                running_loss = running_loss + loss.cpu().detach().numpy()\n",
    "\n",
    "        # put the model in to evaluation model, compute validation loss\n",
    "        embedding.eval()\n",
    "        decoder.eval()\n",
    "        \n",
    "        val_error = val_model(embedding, decoder, val_batch_gen)\n",
    "        \n",
    "        losses.append(running_loss)\n",
    "        val_losses.append(val_error)\n",
    "        \n",
    "        trial.report(val_error, epoch)\n",
    "        \n",
    "        # Handle pruning based on the intermediate value.\n",
    "        if trial.should_prune():\n",
    "            torch.cuda.empty_cache()\n",
    "            raise optuna.exceptions.TrialPruned()\n",
    "        \n",
    "        # Early stop using early_stopper, break for loop\n",
    "        if early_stopper.early_stop(val_error):             \n",
    "            break\n",
    "    \n",
    "    torch.cuda.empty_cache()\n",
    "    \n",
    "    return early_stopper.min_validation_loss\n",
    "\n"
   ]
  },
  {
   "cell_type": "code",
   "execution_count": 30,
   "metadata": {},
   "outputs": [
    {
     "ename": "DuplicatedStudyError",
     "evalue": "Another study with name 'example-study2' already exists. Please specify a different name, or reuse the existing one by setting `load_if_exists` (for Python API) or `--skip-if-exists` flag (for CLI).",
     "output_type": "error",
     "traceback": [
      "\u001b[1;31m---------------------------------------------------------------------------\u001b[0m",
      "\u001b[1;31mIntegrityError\u001b[0m                            Traceback (most recent call last)",
      "File \u001b[1;32mc:\\Users\\User\\Anaconda3\\envs\\pytorch-env1\\lib\\site-packages\\sqlalchemy\\engine\\base.py:1900\u001b[0m, in \u001b[0;36mConnection._execute_context\u001b[1;34m(self, dialect, constructor, statement, parameters, execution_options, *args, **kw)\u001b[0m\n\u001b[0;32m   1899\u001b[0m     \u001b[39mif\u001b[39;00m \u001b[39mnot\u001b[39;00m evt_handled:\n\u001b[1;32m-> 1900\u001b[0m         \u001b[39mself\u001b[39;49m\u001b[39m.\u001b[39;49mdialect\u001b[39m.\u001b[39;49mdo_execute(\n\u001b[0;32m   1901\u001b[0m             cursor, statement, parameters, context\n\u001b[0;32m   1902\u001b[0m         )\n\u001b[0;32m   1904\u001b[0m \u001b[39mif\u001b[39;00m \u001b[39mself\u001b[39m\u001b[39m.\u001b[39m_has_events \u001b[39mor\u001b[39;00m \u001b[39mself\u001b[39m\u001b[39m.\u001b[39mengine\u001b[39m.\u001b[39m_has_events:\n",
      "File \u001b[1;32mc:\\Users\\User\\Anaconda3\\envs\\pytorch-env1\\lib\\site-packages\\sqlalchemy\\engine\\default.py:736\u001b[0m, in \u001b[0;36mDefaultDialect.do_execute\u001b[1;34m(self, cursor, statement, parameters, context)\u001b[0m\n\u001b[0;32m    735\u001b[0m \u001b[39mdef\u001b[39;00m \u001b[39mdo_execute\u001b[39m(\u001b[39mself\u001b[39m, cursor, statement, parameters, context\u001b[39m=\u001b[39m\u001b[39mNone\u001b[39;00m):\n\u001b[1;32m--> 736\u001b[0m     cursor\u001b[39m.\u001b[39;49mexecute(statement, parameters)\n",
      "\u001b[1;31mIntegrityError\u001b[0m: UNIQUE constraint failed: studies.study_name",
      "\nThe above exception was the direct cause of the following exception:\n",
      "\u001b[1;31mIntegrityError\u001b[0m                            Traceback (most recent call last)",
      "File \u001b[1;32mc:\\Users\\User\\Anaconda3\\envs\\pytorch-env1\\lib\\site-packages\\optuna\\storages\\_rdb\\storage.py:257\u001b[0m, in \u001b[0;36mRDBStorage.create_new_study\u001b[1;34m(self, study_name)\u001b[0m\n\u001b[0;32m    256\u001b[0m \u001b[39mtry\u001b[39;00m:\n\u001b[1;32m--> 257\u001b[0m     \u001b[39mwith\u001b[39;00m _create_scoped_session(\u001b[39mself\u001b[39m\u001b[39m.\u001b[39mscoped_session) \u001b[39mas\u001b[39;00m session:\n\u001b[0;32m    258\u001b[0m         \u001b[39mif\u001b[39;00m study_name \u001b[39mis\u001b[39;00m \u001b[39mNone\u001b[39;00m:\n",
      "File \u001b[1;32mc:\\Users\\User\\Anaconda3\\envs\\pytorch-env1\\lib\\contextlib.py:142\u001b[0m, in \u001b[0;36m_GeneratorContextManager.__exit__\u001b[1;34m(self, typ, value, traceback)\u001b[0m\n\u001b[0;32m    141\u001b[0m \u001b[39mtry\u001b[39;00m:\n\u001b[1;32m--> 142\u001b[0m     \u001b[39mnext\u001b[39;49m(\u001b[39mself\u001b[39;49m\u001b[39m.\u001b[39;49mgen)\n\u001b[0;32m    143\u001b[0m \u001b[39mexcept\u001b[39;00m \u001b[39mStopIteration\u001b[39;00m:\n",
      "File \u001b[1;32mc:\\Users\\User\\Anaconda3\\envs\\pytorch-env1\\lib\\site-packages\\optuna\\storages\\_rdb\\storage.py:70\u001b[0m, in \u001b[0;36m_create_scoped_session\u001b[1;34m(scoped_session, ignore_integrity_error)\u001b[0m\n\u001b[0;32m     69\u001b[0m     \u001b[39myield\u001b[39;00m session\n\u001b[1;32m---> 70\u001b[0m     session\u001b[39m.\u001b[39;49mcommit()\n\u001b[0;32m     71\u001b[0m \u001b[39mexcept\u001b[39;00m sqlalchemy_exc\u001b[39m.\u001b[39mIntegrityError \u001b[39mas\u001b[39;00m e:\n",
      "File \u001b[1;32mc:\\Users\\User\\Anaconda3\\envs\\pytorch-env1\\lib\\site-packages\\sqlalchemy\\orm\\session.py:1451\u001b[0m, in \u001b[0;36mSession.commit\u001b[1;34m(self)\u001b[0m\n\u001b[0;32m   1449\u001b[0m         \u001b[39mraise\u001b[39;00m sa_exc\u001b[39m.\u001b[39mInvalidRequestError(\u001b[39m\"\u001b[39m\u001b[39mNo transaction is begun.\u001b[39m\u001b[39m\"\u001b[39m)\n\u001b[1;32m-> 1451\u001b[0m \u001b[39mself\u001b[39;49m\u001b[39m.\u001b[39;49m_transaction\u001b[39m.\u001b[39;49mcommit(_to_root\u001b[39m=\u001b[39;49m\u001b[39mself\u001b[39;49m\u001b[39m.\u001b[39;49mfuture)\n",
      "File \u001b[1;32mc:\\Users\\User\\Anaconda3\\envs\\pytorch-env1\\lib\\site-packages\\sqlalchemy\\orm\\session.py:829\u001b[0m, in \u001b[0;36mSessionTransaction.commit\u001b[1;34m(self, _to_root)\u001b[0m\n\u001b[0;32m    828\u001b[0m \u001b[39mif\u001b[39;00m \u001b[39mself\u001b[39m\u001b[39m.\u001b[39m_state \u001b[39mis\u001b[39;00m \u001b[39mnot\u001b[39;00m PREPARED:\n\u001b[1;32m--> 829\u001b[0m     \u001b[39mself\u001b[39;49m\u001b[39m.\u001b[39;49m_prepare_impl()\n\u001b[0;32m    831\u001b[0m \u001b[39mif\u001b[39;00m \u001b[39mself\u001b[39m\u001b[39m.\u001b[39m_parent \u001b[39mis\u001b[39;00m \u001b[39mNone\u001b[39;00m \u001b[39mor\u001b[39;00m \u001b[39mself\u001b[39m\u001b[39m.\u001b[39mnested:\n",
      "File \u001b[1;32mc:\\Users\\User\\Anaconda3\\envs\\pytorch-env1\\lib\\site-packages\\sqlalchemy\\orm\\session.py:808\u001b[0m, in \u001b[0;36mSessionTransaction._prepare_impl\u001b[1;34m(self)\u001b[0m\n\u001b[0;32m    807\u001b[0m         \u001b[39mbreak\u001b[39;00m\n\u001b[1;32m--> 808\u001b[0m     \u001b[39mself\u001b[39;49m\u001b[39m.\u001b[39;49msession\u001b[39m.\u001b[39;49mflush()\n\u001b[0;32m    809\u001b[0m \u001b[39melse\u001b[39;00m:\n",
      "File \u001b[1;32mc:\\Users\\User\\Anaconda3\\envs\\pytorch-env1\\lib\\site-packages\\sqlalchemy\\orm\\session.py:3386\u001b[0m, in \u001b[0;36mSession.flush\u001b[1;34m(self, objects)\u001b[0m\n\u001b[0;32m   3385\u001b[0m     \u001b[39mself\u001b[39m\u001b[39m.\u001b[39m_flushing \u001b[39m=\u001b[39m \u001b[39mTrue\u001b[39;00m\n\u001b[1;32m-> 3386\u001b[0m     \u001b[39mself\u001b[39;49m\u001b[39m.\u001b[39;49m_flush(objects)\n\u001b[0;32m   3387\u001b[0m \u001b[39mfinally\u001b[39;00m:\n",
      "File \u001b[1;32mc:\\Users\\User\\Anaconda3\\envs\\pytorch-env1\\lib\\site-packages\\sqlalchemy\\orm\\session.py:3525\u001b[0m, in \u001b[0;36mSession._flush\u001b[1;34m(self, objects)\u001b[0m\n\u001b[0;32m   3524\u001b[0m \u001b[39mexcept\u001b[39;00m:\n\u001b[1;32m-> 3525\u001b[0m     \u001b[39mwith\u001b[39;00m util\u001b[39m.\u001b[39msafe_reraise():\n\u001b[0;32m   3526\u001b[0m         transaction\u001b[39m.\u001b[39mrollback(_capture_exception\u001b[39m=\u001b[39m\u001b[39mTrue\u001b[39;00m)\n",
      "File \u001b[1;32mc:\\Users\\User\\Anaconda3\\envs\\pytorch-env1\\lib\\site-packages\\sqlalchemy\\util\\langhelpers.py:70\u001b[0m, in \u001b[0;36msafe_reraise.__exit__\u001b[1;34m(self, type_, value, traceback)\u001b[0m\n\u001b[0;32m     69\u001b[0m     \u001b[39mif\u001b[39;00m \u001b[39mnot\u001b[39;00m \u001b[39mself\u001b[39m\u001b[39m.\u001b[39mwarn_only:\n\u001b[1;32m---> 70\u001b[0m         compat\u001b[39m.\u001b[39;49mraise_(\n\u001b[0;32m     71\u001b[0m             exc_value,\n\u001b[0;32m     72\u001b[0m             with_traceback\u001b[39m=\u001b[39;49mexc_tb,\n\u001b[0;32m     73\u001b[0m         )\n\u001b[0;32m     74\u001b[0m \u001b[39melse\u001b[39;00m:\n",
      "File \u001b[1;32mc:\\Users\\User\\Anaconda3\\envs\\pytorch-env1\\lib\\site-packages\\sqlalchemy\\util\\compat.py:208\u001b[0m, in \u001b[0;36mraise_\u001b[1;34m(***failed resolving arguments***)\u001b[0m\n\u001b[0;32m    207\u001b[0m \u001b[39mtry\u001b[39;00m:\n\u001b[1;32m--> 208\u001b[0m     \u001b[39mraise\u001b[39;00m exception\n\u001b[0;32m    209\u001b[0m \u001b[39mfinally\u001b[39;00m:\n\u001b[0;32m    210\u001b[0m     \u001b[39m# credit to\u001b[39;00m\n\u001b[0;32m    211\u001b[0m     \u001b[39m# https://cosmicpercolator.com/2016/01/13/exception-leaks-in-python-2-and-3/\u001b[39;00m\n\u001b[0;32m    212\u001b[0m     \u001b[39m# as the __traceback__ object creates a cycle\u001b[39;00m\n",
      "File \u001b[1;32mc:\\Users\\User\\Anaconda3\\envs\\pytorch-env1\\lib\\site-packages\\sqlalchemy\\orm\\session.py:3486\u001b[0m, in \u001b[0;36mSession._flush\u001b[1;34m(self, objects)\u001b[0m\n\u001b[0;32m   3485\u001b[0m \u001b[39mtry\u001b[39;00m:\n\u001b[1;32m-> 3486\u001b[0m     flush_context\u001b[39m.\u001b[39;49mexecute()\n\u001b[0;32m   3487\u001b[0m \u001b[39mfinally\u001b[39;00m:\n",
      "File \u001b[1;32mc:\\Users\\User\\Anaconda3\\envs\\pytorch-env1\\lib\\site-packages\\sqlalchemy\\orm\\unitofwork.py:456\u001b[0m, in \u001b[0;36mUOWTransaction.execute\u001b[1;34m(self)\u001b[0m\n\u001b[0;32m    455\u001b[0m \u001b[39mfor\u001b[39;00m rec \u001b[39min\u001b[39;00m topological\u001b[39m.\u001b[39msort(\u001b[39mself\u001b[39m\u001b[39m.\u001b[39mdependencies, postsort_actions):\n\u001b[1;32m--> 456\u001b[0m     rec\u001b[39m.\u001b[39;49mexecute(\u001b[39mself\u001b[39;49m)\n",
      "File \u001b[1;32mc:\\Users\\User\\Anaconda3\\envs\\pytorch-env1\\lib\\site-packages\\sqlalchemy\\orm\\unitofwork.py:630\u001b[0m, in \u001b[0;36mSaveUpdateAll.execute\u001b[1;34m(self, uow)\u001b[0m\n\u001b[0;32m    628\u001b[0m \u001b[39m@util\u001b[39m\u001b[39m.\u001b[39mpreload_module(\u001b[39m\"\u001b[39m\u001b[39msqlalchemy.orm.persistence\u001b[39m\u001b[39m\"\u001b[39m)\n\u001b[0;32m    629\u001b[0m \u001b[39mdef\u001b[39;00m \u001b[39mexecute\u001b[39m(\u001b[39mself\u001b[39m, uow):\n\u001b[1;32m--> 630\u001b[0m     util\u001b[39m.\u001b[39;49mpreloaded\u001b[39m.\u001b[39;49morm_persistence\u001b[39m.\u001b[39;49msave_obj(\n\u001b[0;32m    631\u001b[0m         \u001b[39mself\u001b[39;49m\u001b[39m.\u001b[39;49mmapper,\n\u001b[0;32m    632\u001b[0m         uow\u001b[39m.\u001b[39;49mstates_for_mapper_hierarchy(\u001b[39mself\u001b[39;49m\u001b[39m.\u001b[39;49mmapper, \u001b[39mFalse\u001b[39;49;00m, \u001b[39mFalse\u001b[39;49;00m),\n\u001b[0;32m    633\u001b[0m         uow,\n\u001b[0;32m    634\u001b[0m     )\n",
      "File \u001b[1;32mc:\\Users\\User\\Anaconda3\\envs\\pytorch-env1\\lib\\site-packages\\sqlalchemy\\orm\\persistence.py:245\u001b[0m, in \u001b[0;36msave_obj\u001b[1;34m(base_mapper, states, uowtransaction, single)\u001b[0m\n\u001b[0;32m    237\u001b[0m     _emit_update_statements(\n\u001b[0;32m    238\u001b[0m         base_mapper,\n\u001b[0;32m    239\u001b[0m         uowtransaction,\n\u001b[1;32m   (...)\u001b[0m\n\u001b[0;32m    242\u001b[0m         update,\n\u001b[0;32m    243\u001b[0m     )\n\u001b[1;32m--> 245\u001b[0m     _emit_insert_statements(\n\u001b[0;32m    246\u001b[0m         base_mapper,\n\u001b[0;32m    247\u001b[0m         uowtransaction,\n\u001b[0;32m    248\u001b[0m         mapper,\n\u001b[0;32m    249\u001b[0m         table,\n\u001b[0;32m    250\u001b[0m         insert,\n\u001b[0;32m    251\u001b[0m     )\n\u001b[0;32m    253\u001b[0m _finalize_insert_update_commands(\n\u001b[0;32m    254\u001b[0m     base_mapper,\n\u001b[0;32m    255\u001b[0m     uowtransaction,\n\u001b[1;32m   (...)\u001b[0m\n\u001b[0;32m    271\u001b[0m     ),\n\u001b[0;32m    272\u001b[0m )\n",
      "File \u001b[1;32mc:\\Users\\User\\Anaconda3\\envs\\pytorch-env1\\lib\\site-packages\\sqlalchemy\\orm\\persistence.py:1238\u001b[0m, in \u001b[0;36m_emit_insert_statements\u001b[1;34m(base_mapper, uowtransaction, mapper, table, insert, bookkeeping)\u001b[0m\n\u001b[0;32m   1237\u001b[0m \u001b[39melse\u001b[39;00m:\n\u001b[1;32m-> 1238\u001b[0m     result \u001b[39m=\u001b[39m connection\u001b[39m.\u001b[39;49m_execute_20(\n\u001b[0;32m   1239\u001b[0m         statement,\n\u001b[0;32m   1240\u001b[0m         params,\n\u001b[0;32m   1241\u001b[0m         execution_options\u001b[39m=\u001b[39;49mexecution_options,\n\u001b[0;32m   1242\u001b[0m     )\n\u001b[0;32m   1244\u001b[0m primary_key \u001b[39m=\u001b[39m result\u001b[39m.\u001b[39minserted_primary_key\n",
      "File \u001b[1;32mc:\\Users\\User\\Anaconda3\\envs\\pytorch-env1\\lib\\site-packages\\sqlalchemy\\engine\\base.py:1705\u001b[0m, in \u001b[0;36mConnection._execute_20\u001b[1;34m(self, statement, parameters, execution_options)\u001b[0m\n\u001b[0;32m   1704\u001b[0m \u001b[39melse\u001b[39;00m:\n\u001b[1;32m-> 1705\u001b[0m     \u001b[39mreturn\u001b[39;00m meth(\u001b[39mself\u001b[39;49m, args_10style, kwargs_10style, execution_options)\n",
      "File \u001b[1;32mc:\\Users\\User\\Anaconda3\\envs\\pytorch-env1\\lib\\site-packages\\sqlalchemy\\sql\\elements.py:333\u001b[0m, in \u001b[0;36mClauseElement._execute_on_connection\u001b[1;34m(self, connection, multiparams, params, execution_options, _force)\u001b[0m\n\u001b[0;32m    332\u001b[0m \u001b[39mif\u001b[39;00m _force \u001b[39mor\u001b[39;00m \u001b[39mself\u001b[39m\u001b[39m.\u001b[39msupports_execution:\n\u001b[1;32m--> 333\u001b[0m     \u001b[39mreturn\u001b[39;00m connection\u001b[39m.\u001b[39;49m_execute_clauseelement(\n\u001b[0;32m    334\u001b[0m         \u001b[39mself\u001b[39;49m, multiparams, params, execution_options\n\u001b[0;32m    335\u001b[0m     )\n\u001b[0;32m    336\u001b[0m \u001b[39melse\u001b[39;00m:\n",
      "File \u001b[1;32mc:\\Users\\User\\Anaconda3\\envs\\pytorch-env1\\lib\\site-packages\\sqlalchemy\\engine\\base.py:1572\u001b[0m, in \u001b[0;36mConnection._execute_clauseelement\u001b[1;34m(self, elem, multiparams, params, execution_options)\u001b[0m\n\u001b[0;32m   1564\u001b[0m compiled_sql, extracted_params, cache_hit \u001b[39m=\u001b[39m elem\u001b[39m.\u001b[39m_compile_w_cache(\n\u001b[0;32m   1565\u001b[0m     dialect\u001b[39m=\u001b[39mdialect,\n\u001b[0;32m   1566\u001b[0m     compiled_cache\u001b[39m=\u001b[39mcompiled_cache,\n\u001b[1;32m   (...)\u001b[0m\n\u001b[0;32m   1570\u001b[0m     linting\u001b[39m=\u001b[39m\u001b[39mself\u001b[39m\u001b[39m.\u001b[39mdialect\u001b[39m.\u001b[39mcompiler_linting \u001b[39m|\u001b[39m compiler\u001b[39m.\u001b[39mWARN_LINTING,\n\u001b[0;32m   1571\u001b[0m )\n\u001b[1;32m-> 1572\u001b[0m ret \u001b[39m=\u001b[39m \u001b[39mself\u001b[39;49m\u001b[39m.\u001b[39;49m_execute_context(\n\u001b[0;32m   1573\u001b[0m     dialect,\n\u001b[0;32m   1574\u001b[0m     dialect\u001b[39m.\u001b[39;49mexecution_ctx_cls\u001b[39m.\u001b[39;49m_init_compiled,\n\u001b[0;32m   1575\u001b[0m     compiled_sql,\n\u001b[0;32m   1576\u001b[0m     distilled_params,\n\u001b[0;32m   1577\u001b[0m     execution_options,\n\u001b[0;32m   1578\u001b[0m     compiled_sql,\n\u001b[0;32m   1579\u001b[0m     distilled_params,\n\u001b[0;32m   1580\u001b[0m     elem,\n\u001b[0;32m   1581\u001b[0m     extracted_params,\n\u001b[0;32m   1582\u001b[0m     cache_hit\u001b[39m=\u001b[39;49mcache_hit,\n\u001b[0;32m   1583\u001b[0m )\n\u001b[0;32m   1584\u001b[0m \u001b[39mif\u001b[39;00m has_events:\n",
      "File \u001b[1;32mc:\\Users\\User\\Anaconda3\\envs\\pytorch-env1\\lib\\site-packages\\sqlalchemy\\engine\\base.py:1943\u001b[0m, in \u001b[0;36mConnection._execute_context\u001b[1;34m(self, dialect, constructor, statement, parameters, execution_options, *args, **kw)\u001b[0m\n\u001b[0;32m   1942\u001b[0m \u001b[39mexcept\u001b[39;00m \u001b[39mBaseException\u001b[39;00m \u001b[39mas\u001b[39;00m e:\n\u001b[1;32m-> 1943\u001b[0m     \u001b[39mself\u001b[39;49m\u001b[39m.\u001b[39;49m_handle_dbapi_exception(\n\u001b[0;32m   1944\u001b[0m         e, statement, parameters, cursor, context\n\u001b[0;32m   1945\u001b[0m     )\n\u001b[0;32m   1947\u001b[0m \u001b[39mreturn\u001b[39;00m result\n",
      "File \u001b[1;32mc:\\Users\\User\\Anaconda3\\envs\\pytorch-env1\\lib\\site-packages\\sqlalchemy\\engine\\base.py:2124\u001b[0m, in \u001b[0;36mConnection._handle_dbapi_exception\u001b[1;34m(self, e, statement, parameters, cursor, context)\u001b[0m\n\u001b[0;32m   2123\u001b[0m \u001b[39melif\u001b[39;00m should_wrap:\n\u001b[1;32m-> 2124\u001b[0m     util\u001b[39m.\u001b[39;49mraise_(\n\u001b[0;32m   2125\u001b[0m         sqlalchemy_exception, with_traceback\u001b[39m=\u001b[39;49mexc_info[\u001b[39m2\u001b[39;49m], from_\u001b[39m=\u001b[39;49me\n\u001b[0;32m   2126\u001b[0m     )\n\u001b[0;32m   2127\u001b[0m \u001b[39melse\u001b[39;00m:\n",
      "File \u001b[1;32mc:\\Users\\User\\Anaconda3\\envs\\pytorch-env1\\lib\\site-packages\\sqlalchemy\\util\\compat.py:208\u001b[0m, in \u001b[0;36mraise_\u001b[1;34m(***failed resolving arguments***)\u001b[0m\n\u001b[0;32m    207\u001b[0m \u001b[39mtry\u001b[39;00m:\n\u001b[1;32m--> 208\u001b[0m     \u001b[39mraise\u001b[39;00m exception\n\u001b[0;32m    209\u001b[0m \u001b[39mfinally\u001b[39;00m:\n\u001b[0;32m    210\u001b[0m     \u001b[39m# credit to\u001b[39;00m\n\u001b[0;32m    211\u001b[0m     \u001b[39m# https://cosmicpercolator.com/2016/01/13/exception-leaks-in-python-2-and-3/\u001b[39;00m\n\u001b[0;32m    212\u001b[0m     \u001b[39m# as the __traceback__ object creates a cycle\u001b[39;00m\n",
      "File \u001b[1;32mc:\\Users\\User\\Anaconda3\\envs\\pytorch-env1\\lib\\site-packages\\sqlalchemy\\engine\\base.py:1900\u001b[0m, in \u001b[0;36mConnection._execute_context\u001b[1;34m(self, dialect, constructor, statement, parameters, execution_options, *args, **kw)\u001b[0m\n\u001b[0;32m   1899\u001b[0m     \u001b[39mif\u001b[39;00m \u001b[39mnot\u001b[39;00m evt_handled:\n\u001b[1;32m-> 1900\u001b[0m         \u001b[39mself\u001b[39;49m\u001b[39m.\u001b[39;49mdialect\u001b[39m.\u001b[39;49mdo_execute(\n\u001b[0;32m   1901\u001b[0m             cursor, statement, parameters, context\n\u001b[0;32m   1902\u001b[0m         )\n\u001b[0;32m   1904\u001b[0m \u001b[39mif\u001b[39;00m \u001b[39mself\u001b[39m\u001b[39m.\u001b[39m_has_events \u001b[39mor\u001b[39;00m \u001b[39mself\u001b[39m\u001b[39m.\u001b[39mengine\u001b[39m.\u001b[39m_has_events:\n",
      "File \u001b[1;32mc:\\Users\\User\\Anaconda3\\envs\\pytorch-env1\\lib\\site-packages\\sqlalchemy\\engine\\default.py:736\u001b[0m, in \u001b[0;36mDefaultDialect.do_execute\u001b[1;34m(self, cursor, statement, parameters, context)\u001b[0m\n\u001b[0;32m    735\u001b[0m \u001b[39mdef\u001b[39;00m \u001b[39mdo_execute\u001b[39m(\u001b[39mself\u001b[39m, cursor, statement, parameters, context\u001b[39m=\u001b[39m\u001b[39mNone\u001b[39;00m):\n\u001b[1;32m--> 736\u001b[0m     cursor\u001b[39m.\u001b[39;49mexecute(statement, parameters)\n",
      "\u001b[1;31mIntegrityError\u001b[0m: (sqlite3.IntegrityError) UNIQUE constraint failed: studies.study_name\n[SQL: INSERT INTO studies (study_name) VALUES (?)]\n[parameters: ('example-study2',)]\n(Background on this error at: https://sqlalche.me/e/14/gkpj)",
      "\nDuring handling of the above exception, another exception occurred:\n",
      "\u001b[1;31mDuplicatedStudyError\u001b[0m                      Traceback (most recent call last)",
      "Cell \u001b[1;32mIn [30], line 6\u001b[0m\n\u001b[0;32m      3\u001b[0m study_name \u001b[39m=\u001b[39m \u001b[39m\"\u001b[39m\u001b[39mexample-study2\u001b[39m\u001b[39m\"\u001b[39m  \u001b[39m# Unique identifier of the study.\u001b[39;00m\n\u001b[0;32m      4\u001b[0m storage_name \u001b[39m=\u001b[39m \u001b[39m\"\u001b[39m\u001b[39msqlite:///\u001b[39m\u001b[39m{}\u001b[39;00m\u001b[39m.db\u001b[39m\u001b[39m\"\u001b[39m\u001b[39m.\u001b[39mformat(study_name)\n\u001b[1;32m----> 6\u001b[0m study \u001b[39m=\u001b[39m optuna\u001b[39m.\u001b[39mcreate_study(study_name\u001b[39m=\u001b[39mstudy_name, storage\u001b[39m=\u001b[39mstorage_name,direction\u001b[39m=\u001b[39m\u001b[39m\"\u001b[39m\u001b[39mminimize\u001b[39m\u001b[39m\"\u001b[39m, pruner\u001b[39m=\u001b[39moptuna\u001b[39m.\u001b[39mpruners\u001b[39m.\u001b[39mNopPruner())\n\u001b[0;32m      7\u001b[0m study\u001b[39m.\u001b[39moptimize(objective, n_trials\u001b[39m=\u001b[39m\u001b[39m100\u001b[39m)\n",
      "File \u001b[1;32mc:\\Users\\User\\Anaconda3\\envs\\pytorch-env1\\lib\\site-packages\\optuna\\_convert_positional_args.py:63\u001b[0m, in \u001b[0;36mconvert_positional_args.<locals>.converter_decorator.<locals>.converter_wrapper\u001b[1;34m(*args, **kwargs)\u001b[0m\n\u001b[0;32m     58\u001b[0m         \u001b[39mraise\u001b[39;00m \u001b[39mTypeError\u001b[39;00m(\n\u001b[0;32m     59\u001b[0m             \u001b[39mf\u001b[39m\u001b[39m\"\u001b[39m\u001b[39m{\u001b[39;00mfunc\u001b[39m.\u001b[39m\u001b[39m__name__\u001b[39m\u001b[39m}\u001b[39;00m\u001b[39m() got multiple values for argument \u001b[39m\u001b[39m'\u001b[39m\u001b[39m{\u001b[39;00marg_name\u001b[39m}\u001b[39;00m\u001b[39m'\u001b[39m\u001b[39m.\u001b[39m\u001b[39m\"\u001b[39m\n\u001b[0;32m     60\u001b[0m         )\n\u001b[0;32m     61\u001b[0m     kwargs[arg_name] \u001b[39m=\u001b[39m val\n\u001b[1;32m---> 63\u001b[0m \u001b[39mreturn\u001b[39;00m func(\u001b[39m*\u001b[39m\u001b[39m*\u001b[39mkwargs)\n",
      "File \u001b[1;32mc:\\Users\\User\\Anaconda3\\envs\\pytorch-env1\\lib\\site-packages\\optuna\\study\\study.py:1149\u001b[0m, in \u001b[0;36mcreate_study\u001b[1;34m(storage, sampler, pruner, study_name, direction, load_if_exists, directions)\u001b[0m\n\u001b[0;32m   1147\u001b[0m storage \u001b[39m=\u001b[39m storages\u001b[39m.\u001b[39mget_storage(storage)\n\u001b[0;32m   1148\u001b[0m \u001b[39mtry\u001b[39;00m:\n\u001b[1;32m-> 1149\u001b[0m     study_id \u001b[39m=\u001b[39m storage\u001b[39m.\u001b[39;49mcreate_new_study(study_name)\n\u001b[0;32m   1150\u001b[0m \u001b[39mexcept\u001b[39;00m exceptions\u001b[39m.\u001b[39mDuplicatedStudyError:\n\u001b[0;32m   1151\u001b[0m     \u001b[39mif\u001b[39;00m load_if_exists:\n",
      "File \u001b[1;32mc:\\Users\\User\\Anaconda3\\envs\\pytorch-env1\\lib\\site-packages\\optuna\\storages\\_cached_storage.py:81\u001b[0m, in \u001b[0;36m_CachedStorage.create_new_study\u001b[1;34m(self, study_name)\u001b[0m\n\u001b[0;32m     79\u001b[0m \u001b[39mdef\u001b[39;00m \u001b[39mcreate_new_study\u001b[39m(\u001b[39mself\u001b[39m, study_name: Optional[\u001b[39mstr\u001b[39m] \u001b[39m=\u001b[39m \u001b[39mNone\u001b[39;00m) \u001b[39m-\u001b[39m\u001b[39m>\u001b[39m \u001b[39mint\u001b[39m:\n\u001b[1;32m---> 81\u001b[0m     study_id \u001b[39m=\u001b[39m \u001b[39mself\u001b[39;49m\u001b[39m.\u001b[39;49m_backend\u001b[39m.\u001b[39;49mcreate_new_study(study_name)\n\u001b[0;32m     82\u001b[0m     \u001b[39mwith\u001b[39;00m \u001b[39mself\u001b[39m\u001b[39m.\u001b[39m_lock:\n\u001b[0;32m     83\u001b[0m         study \u001b[39m=\u001b[39m _StudyInfo()\n",
      "File \u001b[1;32mc:\\Users\\User\\Anaconda3\\envs\\pytorch-env1\\lib\\site-packages\\optuna\\storages\\_rdb\\storage.py:267\u001b[0m, in \u001b[0;36mRDBStorage.create_new_study\u001b[1;34m(self, study_name)\u001b[0m\n\u001b[0;32m    265\u001b[0m         session\u001b[39m.\u001b[39madd(study)\n\u001b[0;32m    266\u001b[0m \u001b[39mexcept\u001b[39;00m sqlalchemy_exc\u001b[39m.\u001b[39mIntegrityError:\n\u001b[1;32m--> 267\u001b[0m     \u001b[39mraise\u001b[39;00m optuna\u001b[39m.\u001b[39mexceptions\u001b[39m.\u001b[39mDuplicatedStudyError(\n\u001b[0;32m    268\u001b[0m         \u001b[39m\"\u001b[39m\u001b[39mAnother study with name \u001b[39m\u001b[39m'\u001b[39m\u001b[39m{}\u001b[39;00m\u001b[39m'\u001b[39m\u001b[39m already exists. \u001b[39m\u001b[39m\"\u001b[39m\n\u001b[0;32m    269\u001b[0m         \u001b[39m\"\u001b[39m\u001b[39mPlease specify a different name, or reuse the existing one \u001b[39m\u001b[39m\"\u001b[39m\n\u001b[0;32m    270\u001b[0m         \u001b[39m\"\u001b[39m\u001b[39mby setting `load_if_exists` (for Python API) or \u001b[39m\u001b[39m\"\u001b[39m\n\u001b[0;32m    271\u001b[0m         \u001b[39m\"\u001b[39m\u001b[39m`--skip-if-exists` flag (for CLI).\u001b[39m\u001b[39m\"\u001b[39m\u001b[39m.\u001b[39mformat(study_name)\n\u001b[0;32m    272\u001b[0m     )\n\u001b[0;32m    274\u001b[0m _logger\u001b[39m.\u001b[39minfo(\u001b[39m\"\u001b[39m\u001b[39mA new study created in RDB with name: \u001b[39m\u001b[39m{}\u001b[39;00m\u001b[39m\"\u001b[39m\u001b[39m.\u001b[39mformat(study_name))\n\u001b[0;32m    276\u001b[0m \u001b[39mreturn\u001b[39;00m \u001b[39mself\u001b[39m\u001b[39m.\u001b[39mget_study_id_from_name(study_name)\n",
      "\u001b[1;31mDuplicatedStudyError\u001b[0m: Another study with name 'example-study2' already exists. Please specify a different name, or reuse the existing one by setting `load_if_exists` (for Python API) or `--skip-if-exists` flag (for CLI)."
     ]
    }
   ],
   "source": [
    "# Add stream handler of stdout to show the messages\n",
    "optuna.logging.get_logger(\"optuna\").addHandler(logging.StreamHandler(sys.stdout))\n",
    "study_name = \"example-study2\"  # Unique identifier of the study.\n",
    "storage_name = \"sqlite:///{}.db\".format(study_name)\n",
    "\n",
    "study = optuna.create_study(study_name=study_name, storage=storage_name,direction=\"minimize\", pruner=optuna.pruners.NopPruner())\n",
    "study.optimize(objective, n_trials=100)"
   ]
  },
  {
   "cell_type": "code",
   "execution_count": 12,
   "metadata": {},
   "outputs": [],
   "source": [
    "study_name = \"example-study2\"  # Unique identifier of the study.\n",
    "storage_name = \"sqlite:///{}.db\".format(study_name)\n",
    "loaded_study = optuna.load_study(study_name=study_name, storage=storage_name)"
   ]
  },
  {
   "cell_type": "code",
   "execution_count": 13,
   "metadata": {},
   "outputs": [
    {
     "name": "stdout",
     "output_type": "stream",
     "text": [
      "[0.37800142593031094]\n"
     ]
    }
   ],
   "source": [
    "print(loaded_study.best_trial.values)"
   ]
  },
  {
   "cell_type": "code",
   "execution_count": 14,
   "metadata": {},
   "outputs": [],
   "source": [
    "def get_optimal_epochs(loaded_study):\n",
    "    \n",
    "    stats = loaded_study.best_trials[0].intermediate_values\n",
    "    EPOCHS = min(stats, key=lambda k: stats[k]) + 1\n",
    "    \n",
    "    return EPOCHS"
   ]
  },
  {
   "cell_type": "code",
   "execution_count": 15,
   "metadata": {},
   "outputs": [
    {
     "data": {
      "text/plain": [
       "80"
      ]
     },
     "execution_count": 15,
     "metadata": {},
     "output_type": "execute_result"
    }
   ],
   "source": [
    "get_optimal_epochs(loaded_study)"
   ]
  },
  {
   "cell_type": "code",
   "execution_count": 18,
   "metadata": {},
   "outputs": [],
   "source": [
    "def get_final_models(loaded_study):\n",
    "    \n",
    "    EPOCHS = get_optimal_epochs(loaded_study)\n",
    "    trial = loaded_study.best_trials[0]\n",
    "\n",
    "    losses = []\n",
    "    val_losses = []\n",
    "    \n",
    "    # prepare early stopper\n",
    "    early_stopper = EarlyStopper(patience=20, min_delta=0)\n",
    "    \n",
    "    # define model\n",
    "    decoder = define_model(trial).to(DEVICE)\n",
    "    embedding = nn.Embedding(N_CATCHMENT, LATENT_DIM).to(DEVICE)\n",
    "\n",
    "    \n",
    "    # define optimizers\n",
    "    lr = trial.suggest_float(\"lr\", 1e-5, 1e-2, log=True)\n",
    "    decoder_optimizer = optim.Adam(decoder.parameters(), lr=lr)\n",
    "    embedding_optimizer = optim.Adam(embedding.parameters(), lr=lr)\n",
    "    \n",
    "    \n",
    "    # train model\n",
    "    for epoch in range(EPOCHS):\n",
    "\n",
    "        running_loss = 0.0\n",
    "\n",
    "        for i in range(TRAIN_STEPS):\n",
    "\n",
    "            decoder_optimizer.zero_grad()\n",
    "            embedding_optimizer.zero_grad()\n",
    "\n",
    "            # put the models into training mode\n",
    "            decoder.train()\n",
    "            embedding.train()\n",
    "\n",
    "            (xs_batch, ys_batch, selected_catchments) = train_batch_gen.get_batch(\n",
    "                n_seq=n_seq, batch_size=BATCH_SIZE, seq_length=SEQ_LENGTH\n",
    "            )\n",
    "\n",
    "            # divide batch and pass to device\n",
    "            xs_batch, ys_batch, selected_catchments = (\n",
    "                xs_batch.to(DEVICE),\n",
    "                ys_batch.to(DEVICE),\n",
    "                selected_catchments.to(DEVICE),\n",
    "            )\n",
    "            \n",
    "            # slice batch for training\n",
    "            x0, y0 = (xs_batch[0, :, :, :], ys_batch[0, :, :])\n",
    "            code = embedding(selected_catchments)\n",
    "\n",
    "            # pass through decoder\n",
    "            out = decoder.decode(code, x0)\n",
    "\n",
    "            # backprop\n",
    "            loss = criterion(\n",
    "                out[:, (SEQ_LENGTH - TARGET_SEQ_LENGTH) :],\n",
    "                y0[:, (SEQ_LENGTH - TARGET_SEQ_LENGTH) :],\n",
    "            )\n",
    "\n",
    "            loss.backward()\n",
    "            embedding_optimizer.step()\n",
    "            decoder_optimizer.step()\n",
    "\n",
    "            with torch.no_grad():\n",
    "                running_loss = running_loss + loss.cpu().detach().numpy()\n",
    "\n",
    "        # put the model in to evaluation model, compute validation loss\n",
    "        embedding.eval()\n",
    "        decoder.eval()\n",
    "                \n",
    "        losses.append(running_loss)\n",
    "\n",
    "    \n",
    "    torch.cuda.empty_cache()\n",
    "    \n",
    "    return embedding, decoder"
   ]
  },
  {
   "cell_type": "code",
   "execution_count": 19,
   "metadata": {},
   "outputs": [],
   "source": [
    "embedding, decoder = get_final_models(loaded_study)"
   ]
  },
  {
   "cell_type": "code",
   "execution_count": 35,
   "metadata": {},
   "outputs": [],
   "source": [
    "def val_model(embedding, decoder, batch_gen, gof):\n",
    "    \n",
    "    # store predcitions\n",
    "    preds = np.ones(batch_gen.dataset.y.shape)\n",
    "    \n",
    "    for j in range(math.ceil(N_CATCHMENT / VAL_STEP_SIZE)):\n",
    "        \n",
    "        # iterate over catchments, evaluate VAL_STEP_SIZE catchments each time\n",
    "        start_catchment_ind = j * VAL_STEP_SIZE \n",
    "        end_catchment_ind = min((j + 1) * VAL_STEP_SIZE, N_CATCHMENT)\n",
    "        selected_catchments = [a for a in range(start_catchment_ind, end_catchment_ind)]\n",
    "\n",
    "        x_batch, y_batch = batch_gen.get_batch(selected_catchments=selected_catchments)\n",
    "        x_batch, y_batch = x_batch.to(DEVICE), y_batch.to(DEVICE)\n",
    "        \n",
    "        # get the latent code for the catchments\n",
    "        selected_catchments = torch.from_numpy(np.arange(start_catchment_ind, end_catchment_ind)).to(DEVICE)\n",
    "        with torch.no_grad():\n",
    "            code = embedding(selected_catchments)\n",
    "\n",
    "        # iterate over each year for the selected catchment\n",
    "        # new shape: year * n_catchments * record length * feature dim\n",
    "        x_batch = x_batch.transpose(0, 1)\n",
    "        n_years = x_batch.shape[0]\n",
    "        for k in range(n_years):\n",
    "            start_record_ind = BASE_LENGTH + k * TARGET_SEQ_LENGTH\n",
    "            end_record_ind = start_record_ind + TARGET_SEQ_LENGTH\n",
    "\n",
    "            # subsetting and pass through decoder\n",
    "            x_val_sub = x_batch[k, :, :, :].squeeze()\n",
    "            with torch.no_grad():\n",
    "                pred = decoder.decode(code, x_val_sub)[:, BASE_LENGTH :]\n",
    "                preds[\n",
    "                    start_catchment_ind:end_catchment_ind, start_record_ind:end_record_ind\n",
    "                ] = (pred.cpu().detach().numpy())\n",
    "\n",
    "        \n",
    "        # compuate normalized NSE for each catchment\n",
    "        # interate over catchments\n",
    "        gofs = np.ones(preds.shape[0])\n",
    "        for k in range(preds.shape[0]):\n",
    "            \n",
    "            end_record_ind = BASE_LENGTH + n_years * TARGET_SEQ_LENGTH\n",
    "            y_pred = preds[k, BASE_LENGTH:end_record_ind]\n",
    "            y_true = batch_gen.dataset.y[k, BASE_LENGTH:end_record_ind].cpu().detach().numpy()\n",
    "\n",
    "            gofs[k] = gof(y_true=y_true, y_pred=y_pred)\n",
    "    \n",
    "    return gofs"
   ]
  },
  {
   "cell_type": "code",
   "execution_count": 28,
   "metadata": {},
   "outputs": [
    {
     "data": {
      "text/plain": [
       "0.43720305465326126"
      ]
     },
     "execution_count": 28,
     "metadata": {},
     "output_type": "execute_result"
    }
   ],
   "source": [
    "val_error = val_model(embedding, decoder, val_batch_gen, r2_score)\n",
    "val_error"
   ]
  },
  {
   "cell_type": "code",
   "execution_count": 39,
   "metadata": {},
   "outputs": [],
   "source": [
    "test_error = val_model(embedding, decoder, test_batch_gen, r2_score)\n",
    "test_error =1/(2-test_error)"
   ]
  },
  {
   "cell_type": "code",
   "execution_count": 40,
   "metadata": {},
   "outputs": [
    {
     "data": {
      "image/png": "[encoded data removed]",
      "text/plain": [
       "<Figure size 640x480 with 1 Axes>"
      ]
     },
     "metadata": {},
     "output_type": "display_data"
    }
   ],
   "source": [
    "plt.hist(test_error, bins = 20)\n",
    "plt.show()\n"
   ]
  },
  {
   "cell_type": "code",
   "execution_count": 114,
   "metadata": {},
   "outputs": [
    {
     "data": {
      "text/plain": [
       "(array([0.43717647, 0.43784574, 0.43842176, ..., 0.43535876, 0.4355703 ,\n",
       "        0.43591914], dtype=float32),\n",
       " array([0.43717647, 0.43784574, 0.43842176, ..., 0.43535876, 0.4355703 ,\n",
       "        0.43591914], dtype=float32))"
      ]
     },
     "execution_count": 114,
     "metadata": {},
     "output_type": "execute_result"
    }
   ],
   "source": [
    "for j in range(math.ceil(N_CATCHMENT / 100)):\n",
    "    # iterate over catchment\n",
    "    start_catchment_ind = j * 100  # evaluate 100 catchments each time\n",
    "    end_catchment_ind = min((j + 1) * 100, N_CATCHMENT)\n",
    "\n",
    "    x_val, y_val = val_batch_gen.get_batch(\n",
    "        selected_catchments=[\n",
    "            a for a in range(start_catchment_ind, end_catchment_ind)\n",
    "        ]\n",
    "    )\n",
    "    \n",
    "    x_val, y_val = x_val.to(DEVICE), y_val.to(DEVICE)\n",
    "\n",
    "    code = embedding(\n",
    "        torch.from_numpy(np.arange(start_catchment_ind, end_catchment_ind)).to(DEVICE)\n",
    "    )\n",
    "\n",
    "    x_val = x_val.transpose(0, 1)\n",
    "\n",
    "    for k in range(x_val.shape[0]):\n",
    "        # iterate over each year\n",
    "        start_record_ind = (k + 1) * (SEQ_LENGTH - TARGET_SEQ_LENGTH)\n",
    "        end_record_ind = start_record_ind + TARGET_SEQ_LENGTH\n",
    "\n",
    "        x_val_sub = x_val[k, :, :, :].squeeze()\n",
    "        preds[\n",
    "            start_catchment_ind:end_catchment_ind,\n",
    "            start_record_ind:end_record_ind,\n",
    "        ] = decoder.decode(code, x_val_sub)[\n",
    "            :, (SEQ_LENGTH - TARGET_SEQ_LENGTH) :\n",
    "        ]\n"
   ]
  },
  {
   "cell_type": "code",
   "execution_count": 111,
   "metadata": {},
   "outputs": [
    {
     "data": {
      "text/plain": [
       "tensor([[0.4298, 0.4280, 0.4264,  ..., 0.4321, 0.4302, 0.4300],\n",
       "        [0.4271, 0.4259, 0.4248,  ..., 0.4288, 0.4275, 0.4269],\n",
       "        [0.4300, 0.4291, 0.4280,  ..., 0.4304, 0.4289, 0.4291],\n",
       "        ...,\n",
       "        [0.4322, 0.4332, 0.4337,  ..., 0.4338, 0.4342, 0.4346],\n",
       "        [0.4313, 0.4320, 0.4323,  ..., 0.4328, 0.4330, 0.4332],\n",
       "        [0.4328, 0.4338, 0.4344,  ..., 0.4354, 0.4356, 0.4359]],\n",
       "       grad_fn=<SliceBackward0>)"
      ]
     },
     "execution_count": 111,
     "metadata": {},
     "output_type": "execute_result"
    }
   ],
   "source": [
    "preds[start_catchment_ind:end_catchment_ind, start_record_ind:end_record_ind]"
   ]
  },
  {
   "cell_type": "code",
   "execution_count": 115,
   "metadata": {},
   "outputs": [
    {
     "data": {
      "text/plain": [
       "tensor([[1., 1., 1.,  ..., 1., 1., 1.],\n",
       "        [1., 1., 1.,  ..., 1., 1., 1.],\n",
       "        [1., 1., 1.,  ..., 1., 1., 1.],\n",
       "        ...,\n",
       "        [1., 1., 1.,  ..., 1., 1., 1.],\n",
       "        [1., 1., 1.,  ..., 1., 1., 1.],\n",
       "        [1., 1., 1.,  ..., 1., 1., 1.]])"
      ]
     },
     "execution_count": 115,
     "metadata": {},
     "output_type": "execute_result"
    }
   ],
   "source": [
    "preds = torch.ones(val_batch_gen.dataset.y.shape)\n",
    "preds"
   ]
  },
  {
   "cell_type": "code",
   "execution_count": 29,
   "metadata": {},
   "outputs": [
    {
     "data": {
      "text/plain": [
       "[<matplotlib.lines.Line2D at 0x18d42ffcfa0>]"
      ]
     },
     "execution_count": 29,
     "metadata": {},
     "output_type": "execute_result"
    },
    {
     "data": {
      "image/png": "[encoded data removed]",
      "text/plain": [
       "<Figure size 640x480 with 1 Axes>"
      ]
     },
     "metadata": {},
     "output_type": "display_data"
    }
   ],
   "source": [
    "with torch.no_grad():\n",
    "        (xs_batch, ys_batch, selected_catchments) = train_batch_gen.get_batch(\n",
    "            n_seq=n_seq, batch_size=BATCH_SIZE, seq_length=SEQ_LENGTH\n",
    "        )\n",
    "        \n",
    "        # divide batch and pass to device\n",
    "\n",
    "        xs_batch, ys_batch, selected_catchments = xs_batch.to(DEVICE), ys_batch.to(DEVICE), selected_catchments.to(DEVICE)\n",
    "        \n",
    "        x0, y0 = (\n",
    "            xs_batch[0, :, :, :],\n",
    "            ys_batch[0, :, :]\n",
    "        )\n",
    "\n",
    "        code = embedding(selected_catchments)\n",
    "\n",
    "        # pass through decoder\n",
    "        out = decoder.decode(code, x0).squeeze()\n",
    "    \n",
    "data_plot = out.cpu().detach().numpy()\n",
    "\n",
    "plt.plot(data_plot[1, (SEQ_LENGTH - TARGET_SEQ_LENGTH) : ])\n",
    "plt.plot(y0[1, (SEQ_LENGTH-TARGET_SEQ_LENGTH):].cpu().detach().numpy())"
   ]
  },
  {
   "cell_type": "code",
   "execution_count": 30,
   "metadata": {},
   "outputs": [
    {
     "data": {
      "text/plain": [
       "[<matplotlib.lines.Line2D at 0x18d42e3e290>]"
      ]
     },
     "execution_count": 30,
     "metadata": {},
     "output_type": "execute_result"
    },
    {
     "data": {
      "image/png": "[encoded data removed]",
      "text/plain": [
       "<Figure size 640x480 with 1 Axes>"
      ]
     },
     "metadata": {},
     "output_type": "display_data"
    }
   ],
   "source": [
    "plt.plot(data_plot[24, (SEQ_LENGTH - TARGET_SEQ_LENGTH) : ])\n",
    "plt.plot(y0[24, (SEQ_LENGTH-TARGET_SEQ_LENGTH):].cpu().detach().numpy())"
   ]
  },
  {
   "cell_type": "code",
   "execution_count": 31,
   "metadata": {},
   "outputs": [
    {
     "data": {
      "text/plain": [
       "0.7751805182474258"
      ]
     },
     "execution_count": 31,
     "metadata": {},
     "output_type": "execute_result"
    }
   ],
   "source": [
    "r2_score(y_true=y0[24, (SEQ_LENGTH-TARGET_SEQ_LENGTH):].cpu().detach().numpy(), y_pred=data_plot[24, (SEQ_LENGTH - TARGET_SEQ_LENGTH) : ])"
   ]
  },
  {
   "cell_type": "code",
   "execution_count": 15,
   "metadata": {},
   "outputs": [
    {
     "data": {
      "text/plain": [
       "<matplotlib.collections.PathCollection at 0x1ad9dc398d0>"
      ]
     },
     "execution_count": 15,
     "metadata": {},
     "output_type": "execute_result"
    },
    {
     "data": {
      "image/png": "[encoded data removed]",
      "text/plain": [
       "<Figure size 640x480 with 1 Axes>"
      ]
     },
     "metadata": {},
     "output_type": "display_data"
    }
   ],
   "source": [
    "plt.scatter(code[:,0].cpu().detach().numpy(), code[:,1].cpu().detach().numpy())"
   ]
  },
  {
   "cell_type": "code",
   "execution_count": 16,
   "metadata": {},
   "outputs": [],
   "source": [
    "torch.save(embedding, \"data/Caravan/embedding.pt\")\n",
    "torch.save(decoder, \"data/Caravan/decoder.pt\")"
   ]
  }
 ],
 "metadata": {
  "kernelspec": {
   "display_name": "Python 3.10.4 ('pytorch-env')",
   "language": "python",
   "name": "python3"
  },
  "language_info": {
   "codemirror_mode": {
    "name": "ipython",
    "version": 3
   },
   "file_extension": ".py",
   "mimetype": "text/x-python",
   "name": "python",
   "nbconvert_exporter": "python",
   "pygments_lexer": "ipython3",
   "version": "3.10.4"
  },
  "orig_nbformat": 4,
  "vscode": {
   "interpreter": {
    "hash": "1ddfd6d42648f68c476c776315986cac60a18b45e56ba9b8a233e8441d39da2b"
   }
  }
 },
 "nbformat": 4,
 "nbformat_minor": 2
}
